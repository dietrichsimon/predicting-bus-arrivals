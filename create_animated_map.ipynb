{
 "cells": [
  {
   "cell_type": "code",
   "execution_count": 1,
   "metadata": {},
   "outputs": [],
   "source": [
    "import pandas as pd\n",
    "import geopandas as gpd\n",
    "import matplotlib.pyplot as plt\n",
    "from shapely.geometry import LineString\n",
    "import psycopg2\n",
    "from sqlalchemy import create_engine\n",
    "import config\n",
    "import contextily as ctx\n",
    "import imageio"
   ]
  },
  {
   "cell_type": "markdown",
   "metadata": {},
   "source": [
    "### Read in positions"
   ]
  },
  {
   "cell_type": "code",
   "execution_count": 2,
   "metadata": {},
   "outputs": [],
   "source": [
    "DATABASE_URL = config.DATABASE_URL\n",
    "engine = create_engine(DATABASE_URL, echo=False)"
   ]
  },
  {
   "cell_type": "code",
   "execution_count": 3,
   "metadata": {},
   "outputs": [
    {
     "data": {
      "text/plain": [
       "(108968, 12)"
      ]
     },
     "execution_count": 3,
     "metadata": {},
     "output_type": "execute_result"
    }
   ],
   "source": [
    "db_table = 'bus_positions'\n",
    "query = f'''SELECT * FROM rushhour2;'''\n",
    "df = pd.read_sql(query, engine)\n",
    "df = df.drop_duplicates()\n",
    "df.shape"
   ]
  },
  {
   "cell_type": "markdown",
   "metadata": {},
   "source": [
    "### Read in lines\n",
    "Downloaded in GTFS static format"
   ]
  },
  {
   "cell_type": "code",
   "execution_count": 4,
   "metadata": {},
   "outputs": [],
   "source": [
    "df_lines = pd.read_csv('data/gtfs_static/shapes.txt')"
   ]
  },
  {
   "cell_type": "markdown",
   "metadata": {},
   "source": [
    "### Preprocess bus positions"
   ]
  },
  {
   "cell_type": "code",
   "execution_count": 5,
   "metadata": {},
   "outputs": [],
   "source": [
    "def preprocessing_positions(df):\n",
    "    '''Format bus positions into geodataframe format.\n",
    "    -------------\n",
    "    Parameter:\n",
    "    - df: DataFrame\n",
    "    Output:\n",
    "    - GeoDataFrame\n",
    "    '''\n",
    "    # adjust time (from UTC to PST)\n",
    "    df['update_datetime'] = pd.to_datetime(df['update_time'], unit = 's')\n",
    "    df['update_datetime'] = df['update_datetime'] + pd.offsets.Hour(-7)\n",
    "    df = df.set_index('update_datetime')\n",
    "    df= df.sort_index()\n",
    "    \n",
    "    # sample to 1 position per minute\n",
    "    df_sampled = pd.DataFrame()\n",
    "    for trip in df.trip_id.unique():\n",
    "        tmp = df[df['trip_id'] == trip].resample('60s').first()\n",
    "        df_sampled = df_sampled.append(tmp)\n",
    "    \n",
    "    # convert into geodataframe\n",
    "    gdf = gpd.GeoDataFrame(df_sampled, geometry=gpd.points_from_xy(df_sampled.longitude, df_sampled.latitude))\n",
    "    \n",
    "    # change projection to fit with background map\n",
    "    gdf.crs = {'init' :'epsg:4326'}\n",
    "    gdf = gdf.to_crs(epsg=3857)\n",
    "    \n",
    "    # sort index\n",
    "    gdf = gdf.sort_index()\n",
    "    \n",
    "    return gdf"
   ]
  },
  {
   "cell_type": "code",
   "execution_count": 6,
   "metadata": {},
   "outputs": [
    {
     "data": {
      "text/plain": [
       "(43318, 13)"
      ]
     },
     "execution_count": 6,
     "metadata": {},
     "output_type": "execute_result"
    }
   ],
   "source": [
    "gdf_pos = preprocessing_positions(df)\n",
    "gdf_pos.shape"
   ]
  },
  {
   "cell_type": "markdown",
   "metadata": {},
   "source": [
    "### Preprocess bus lines"
   ]
  },
  {
   "cell_type": "code",
   "execution_count": 7,
   "metadata": {},
   "outputs": [],
   "source": [
    "def preprocessing_lines(df):\n",
    "    '''Format bus lines into geodataframe format.\n",
    "    -------------\n",
    "    Parameter:\n",
    "    - df: DataFrame\n",
    "    Output:\n",
    "    - GeoDataFrame\n",
    "    '''\n",
    "    tmp = gpd.GeoDataFrame(df, geometry=gpd.points_from_xy(df.shape_pt_lon, df.shape_pt_lat))\n",
    "    gdf = tmp.groupby(['shape_id'])['geometry'].apply(lambda x: LineString(x.tolist()))\n",
    "    gdf = gpd.GeoDataFrame(gdf, geometry='geometry')\n",
    "    \n",
    "    # change projection to fit with background map\n",
    "    gdf.crs = {'init' :'epsg:4326'}\n",
    "    gdf = gdf.to_crs(epsg=3857)\n",
    "    \n",
    "    return gdf"
   ]
  },
  {
   "cell_type": "code",
   "execution_count": 8,
   "metadata": {},
   "outputs": [
    {
     "data": {
      "text/plain": [
       "(1053, 1)"
      ]
     },
     "execution_count": 8,
     "metadata": {},
     "output_type": "execute_result"
    }
   ],
   "source": [
    "gdf_lines = preprocessing_lines(df_lines)\n",
    "gdf_lines.shape"
   ]
  },
  {
   "cell_type": "markdown",
   "metadata": {},
   "source": [
    "### Draw maps"
   ]
  },
  {
   "cell_type": "code",
   "execution_count": 9,
   "metadata": {},
   "outputs": [],
   "source": [
    "def create_maps(xlim, ylim, path_images):\n",
    "    '''Creates a map with bus positions per minute\n",
    "    ------------\n",
    "    Parameters:\n",
    "    - xlim: list (with coordinates)\n",
    "    - ylim: list (with coordinates)\n",
    "    - path_images: string (filepath)\n",
    "    ------------\n",
    "    Output: None\n",
    "    '''\n",
    "    plt.style.use('fivethirtyeight')\n",
    "    count = 0 \n",
    "    for i in gdf_pos.index.unique():\n",
    "        count += 1\n",
    "        fig, ax = plt.subplots(figsize=(15, 15))\n",
    "\n",
    "        ax.set_aspect(aspect='equal')\n",
    "        ax.set_axis_off()\n",
    "        ax.set_ylim(ylim)\n",
    "        ax.set_xlim(xlim)\n",
    "\n",
    "        gdf_lines.plot(ax=ax, linewidth=1, alpha=0.05, color='red', zorder=1)\n",
    "\n",
    "        gdf_pos.loc[i].plot(ax=ax, alpha=0.5, linewidth=1, color='red', zorder=2)\n",
    "        ctx.add_basemap(ax, source=ctx.providers.Stamen.TonerLite)\n",
    "\n",
    "        time = i.strftime(\"%H:%M\")\n",
    "        fig.text(0.1, 0.25, i.strftime(time), fontsize=100, color='gray', alpha=0.2, weight='bold')\n",
    "\n",
    "        plt.savefig(f'{path_images}/{i.strftime(\"%H%M\")}.png')\n",
    "        plt.close()"
   ]
  },
  {
   "cell_type": "code",
   "execution_count": 10,
   "metadata": {},
   "outputs": [],
   "source": [
    "# Set coordinates\n",
    "ylim_greater_portland = [5665000, 5725000]\n",
    "xlim_greater_portland = [-13707000, -13615000]\n",
    "ylim_downtown = [5698000, 5708000]\n",
    "xlim_downtown = [-13660000, -13650000]\n",
    "path_images_greater_portland = 'data/greater_portland'\n",
    "path_images_downtown = 'data/downtown'"
   ]
  },
  {
   "cell_type": "code",
   "execution_count": 11,
   "metadata": {},
   "outputs": [],
   "source": [
    "create_maps(xlim_greater_portland, ylim_greater_portland, path_images_greater_portland)"
   ]
  },
  {
   "cell_type": "code",
   "execution_count": 12,
   "metadata": {},
   "outputs": [],
   "source": [
    "create_maps(xlim_downtown, ylim_downtown, path_images_downtown)"
   ]
  },
  {
   "cell_type": "markdown",
   "metadata": {},
   "source": [
    "### Create GIF"
   ]
  },
  {
   "cell_type": "code",
   "execution_count": 13,
   "metadata": {},
   "outputs": [],
   "source": [
    "def create_gif(path_images, path_gif):\n",
    "    '''Creates gif from maps\n",
    "    ------------\n",
    "    Parameters:\n",
    "    - path_images: string (filepath)\n",
    "    - path_gif: string (filepath & name)\n",
    "    ------------\n",
    "    Output: None\n",
    "    '''\n",
    "    list_of_images = []\n",
    "\n",
    "    for i in gdf_pos.index.unique():\n",
    "        img = imageio.imread(f'{path_images}/{i.strftime(\"%H%M\")}.png')\n",
    "        list_of_images.append(img)\n",
    "\n",
    "    imageio.mimsave(path_gif, list_of_images, fps=10)"
   ]
  },
  {
   "cell_type": "code",
   "execution_count": 14,
   "metadata": {},
   "outputs": [],
   "source": [
    "create_gif(path_images_downtown, 'data/greater_portland.gif')"
   ]
  },
  {
   "cell_type": "code",
   "execution_count": 15,
   "metadata": {},
   "outputs": [],
   "source": [
    "create_gif(path_images_downtown, 'data/downtown.gif')"
   ]
  }
 ],
 "metadata": {
  "kernelspec": {
   "display_name": "Python 3",
   "language": "python",
   "name": "python3"
  },
  "language_info": {
   "codemirror_mode": {
    "name": "ipython",
    "version": 3
   },
   "file_extension": ".py",
   "mimetype": "text/x-python",
   "name": "python",
   "nbconvert_exporter": "python",
   "pygments_lexer": "ipython3",
   "version": "3.7.7"
  }
 },
 "nbformat": 4,
 "nbformat_minor": 4
}
